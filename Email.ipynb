{
 "cells": [
  {
   "cell_type": "code",
   "execution_count": 1,
   "metadata": {},
   "outputs": [
    {
     "data": {
      "text/plain": [
       "(221, b'2.0.0 closing connection gw1sm4882042pjb.36 - gsmtp')"
      ]
     },
     "execution_count": 1,
     "metadata": {},
     "output_type": "execute_result"
    }
   ],
   "source": [
    "import smtplib\n",
    "import os\n",
    "\n",
    "subject = 'This is a test email from Python'\n",
    "body = 'I am trying to send an email using python script'\n",
    "msg = f'Subject:{subject}\\n\\n{body}'\n",
    "\n",
    "# Defined environmental variables for my username, password & email address\n",
    "# To do this in mac\n",
    "# Step 1- Open Terminal\n",
    "# Step 2 - Type nano .bash_profile\n",
    "# Step 3 - Type export GMAIL_ADDRESS='********'\n",
    "#               export GMAIL_PASSWORD='********'\n",
    "#               export GMAIL_USERNAME='********'\n",
    "# Step 4 - Hit ^X (to quit), Y (to save), and Enter. DONE.\n",
    "\n",
    "username = os.environ.get('GMAIL_USERNAME')\n",
    "password = os.environ.get('GMAIL_PASSWORD')\n",
    "fromaddr = os.environ.get('GMAIL_ADDRESS') \n",
    "toaddrs  = 'elmi.golpira@gmail.com'  \n",
    "\n",
    "server = smtplib.SMTP('smtp.gmail.com', 587)  \n",
    "server.ehlo()\n",
    "server.starttls()\n",
    "server.login(username, password)  \n",
    "server.sendmail(fromaddr, toaddrs, msg)  \n",
    "server.quit()"
   ]
  },
  {
   "cell_type": "code",
   "execution_count": null,
   "metadata": {},
   "outputs": [],
   "source": []
  }
 ],
 "metadata": {
  "kernelspec": {
   "display_name": "Python 3",
   "language": "python",
   "name": "python3"
  },
  "language_info": {
   "codemirror_mode": {
    "name": "ipython",
    "version": 3
   },
   "file_extension": ".py",
   "mimetype": "text/x-python",
   "name": "python",
   "nbconvert_exporter": "python",
   "pygments_lexer": "ipython3",
   "version": "3.7.4"
  }
 },
 "nbformat": 4,
 "nbformat_minor": 2
}
